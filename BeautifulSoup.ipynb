{
  "nbformat": 4,
  "nbformat_minor": 0,
  "metadata": {
    "colab": {
      "name": "BeautifulSoup.ipynb",
      "provenance": [],
      "authorship_tag": "ABX9TyNucTQQzoO+GP+YeyMN/TWd",
      "include_colab_link": true
    },
    "kernelspec": {
      "name": "python3",
      "display_name": "Python 3"
    }
  },
  "cells": [
    {
      "cell_type": "markdown",
      "metadata": {
        "id": "view-in-github",
        "colab_type": "text"
      },
      "source": [
        "<a href=\"https://colab.research.google.com/github/Poohi5/BeautifulSoup/blob/master/BeautifulSoup.ipynb\" target=\"_parent\"><img src=\"https://colab.research.google.com/assets/colab-badge.svg\" alt=\"Open In Colab\"/></a>"
      ]
    },
    {
      "cell_type": "code",
      "metadata": {
        "id": "o-knERRsZ6eM",
        "colab_type": "code",
        "colab": {}
      },
      "source": [
        "import pandas as pd\n",
        "import numpy as np"
      ],
      "execution_count": 0,
      "outputs": []
    },
    {
      "cell_type": "code",
      "metadata": {
        "id": "a4bEUwYAZ-xo",
        "colab_type": "code",
        "colab": {}
      },
      "source": [
        "from urllib.request import urlopen\n",
        "from bs4 import BeautifulSoup\n",
        "import requests"
      ],
      "execution_count": 0,
      "outputs": []
    },
    {
      "cell_type": "code",
      "metadata": {
        "id": "tZYnFz5Ra6Av",
        "colab_type": "code",
        "colab": {
          "base_uri": "https://localhost:8080/",
          "height": 442
        },
        "outputId": "a8a84579-5d91-4bd1-89bb-0dcdb9d1e44c"
      },
      "source": [
        "!pip install selenium\n",
        "!apt-get update # to update ubuntu to correctly run apt install\n",
        "!apt install chromium-chromedriver\n",
        "!cp /usr/lib/chromium-browser/chromedriver /usr/bin\n",
        "import sys\n",
        "sys.path.insert(0,'/usr/lib/chromium-browser/chromedriver')\n",
        "from selenium import webdriver\n",
        "chrome_options = webdriver.ChromeOptions()\n",
        "chrome_options.add_argument('--headless')\n",
        "chrome_options.add_argument('--no-sandbox')\n",
        "chrome_options.add_argument('--disable-dev-shm-usage')\n",
        "wd = webdriver.Chrome('chromedriver',chrome_options=chrome_options)\n",
        "wd.get(\"https://www.chp.ca.gov/traffic\")\n"
      ],
      "execution_count": 13,
      "outputs": [
        {
          "output_type": "stream",
          "text": [
            "Requirement already satisfied: selenium in /usr/local/lib/python3.6/dist-packages (3.141.0)\n",
            "Requirement already satisfied: urllib3 in /usr/local/lib/python3.6/dist-packages (from selenium) (1.24.3)\n",
            "Ign:1 https://developer.download.nvidia.com/compute/cuda/repos/ubuntu1804/x86_64  InRelease\n",
            "Hit:2 http://ppa.launchpad.net/graphics-drivers/ppa/ubuntu bionic InRelease\n",
            "Get:3 http://security.ubuntu.com/ubuntu bionic-security InRelease [88.7 kB]\n",
            "Hit:4 https://cloud.r-project.org/bin/linux/ubuntu bionic-cran35/ InRelease\n",
            "Ign:5 https://developer.download.nvidia.com/compute/machine-learning/repos/ubuntu1804/x86_64  InRelease\n",
            "Hit:6 https://developer.download.nvidia.com/compute/cuda/repos/ubuntu1804/x86_64  Release\n",
            "Hit:7 https://developer.download.nvidia.com/compute/machine-learning/repos/ubuntu1804/x86_64  Release\n",
            "Hit:8 http://archive.ubuntu.com/ubuntu bionic InRelease\n",
            "Get:9 http://archive.ubuntu.com/ubuntu bionic-updates InRelease [88.7 kB]\n",
            "Hit:10 http://ppa.launchpad.net/marutter/c2d4u3.5/ubuntu bionic InRelease\n",
            "Get:11 http://archive.ubuntu.com/ubuntu bionic-backports InRelease [74.6 kB]\n",
            "Get:14 http://archive.ubuntu.com/ubuntu bionic-updates/universe amd64 Packages [1,361 kB]\n",
            "Get:15 http://archive.ubuntu.com/ubuntu bionic-updates/main amd64 Packages [1,151 kB]\n",
            "Fetched 2,764 kB in 2s (1,186 kB/s)\n",
            "Reading package lists... Done\n",
            "Reading package lists... Done\n",
            "Building dependency tree       \n",
            "Reading state information... Done\n",
            "chromium-chromedriver is already the newest version (80.0.3987.87-0ubuntu0.18.04.1).\n",
            "0 upgraded, 0 newly installed, 0 to remove and 25 not upgraded.\n",
            "cp: '/usr/lib/chromium-browser/chromedriver' and '/usr/bin/chromedriver' are the same file\n"
          ],
          "name": "stdout"
        },
        {
          "output_type": "stream",
          "text": [
            "/usr/local/lib/python3.6/dist-packages/ipykernel_launcher.py:12: DeprecationWarning: use options instead of chrome_options\n",
            "  if sys.path[0] == '':\n"
          ],
          "name": "stderr"
        }
      ]
    },
    {
      "cell_type": "code",
      "metadata": {
        "id": "6cypa1zrbjbT",
        "colab_type": "code",
        "colab": {
          "base_uri": "https://localhost:8080/",
          "height": 34
        },
        "outputId": "7106f73f-fbf9-451b-e676-5793034e2312"
      },
      "source": [
        "wd"
      ],
      "execution_count": 14,
      "outputs": [
        {
          "output_type": "execute_result",
          "data": {
            "text/plain": [
              "<selenium.webdriver.chrome.webdriver.WebDriver (session=\"59ec4a5d57f70d392704428c9884d8c7\")>"
            ]
          },
          "metadata": {
            "tags": []
          },
          "execution_count": 14
        }
      ]
    },
    {
      "cell_type": "code",
      "metadata": {
        "id": "kj4f4aUJaAVl",
        "colab_type": "code",
        "colab": {}
      },
      "source": [
        "html = ''' \n",
        "<div id=\"pnlIncidents\" style=\"overflow-y:scroll;\">\n",
        "\n",
        "\n",
        "                    <div>\n",
        "        <table tabindex=\"1\" cellspacing=\"0\" rules=\"rows\" border=\"1\" id=\"gvIncidents\" style=\"border-collapse:collapse;\">\n",
        "            <tbody><tr class=\"gvHeader\" style=\"white-space:nowrap;\">\n",
        "                <th tabindex=\"1\" scope=\"col\">Details</th><th tabindex=\"1\" scope=\"col\">No.</th><th tabindex=\"1\" scope=\"col\" style=\"white-space:nowrap;\">Time</th><th tabindex=\"1\" scope=\"col\">Type</th><th tabindex=\"1\" scope=\"col\">Location</th><th tabindex=\"1\" scope=\"col\">Location Desc.</th><th tabindex=\"1\" scope=\"col\">Area</th>\n",
        "            </tr><tr class=\"gvRow\" align=\"left\" style=\"white-space:nowrap;\">\n",
        "                <td class=\"gvSelectColumn\"><a href=\"javascript:__doPostBack('gvIncidents','Select$0')\">Details</a></td><td>00082</td><td style=\"white-space:nowrap;\">9:35 AM</td><td>Hit and Run w/Injuries</td><td>Nb Sr99 Jno Merle Haggard Dr</td><td>NB SR99 JNO Merle Haggard Dr</td><td>Bakersfield</td>\n",
        "            </tr><tr class=\"gvAltRow\" align=\"left\" style=\"white-space:nowrap;\">\n",
        "                <td class=\"gvSelectColumn\"><a href=\"javascript:__doPostBack('gvIncidents','Select$1')\">Details</a></td><td>00002</td><td style=\"white-space:nowrap;\">12:00 AM</td><td>Traffic Advisory</td><td>Bakersfield Traffic Advisories</td><td>Bakersfield Traffic Advisories</td><td>BF</td>\n",
        "            </tr><tr class=\"gvRow\" align=\"left\" style=\"white-space:nowrap;\">\n",
        "                <td class=\"gvSelectColumn\"><a href=\"javascript:__doPostBack('gvIncidents','Select$2')\">Details</a></td><td>00091</td><td style=\"white-space:nowrap;\">11:02 AM</td><td>CLOSURE of a Road</td><td>Cerro Noroeste Rd / Klipstein Canyon Rd</td><td>&nbsp;</td><td>Fort Tejon</td>\n",
        "            </tr><tr class=\"gvAltRow\" align=\"left\" style=\"white-space:nowrap;\">\n",
        "                <td class=\"gvSelectColumn\"><a href=\"javascript:__doPostBack('gvIncidents','Select$3')\">Details</a></td><td>00074</td><td style=\"white-space:nowrap;\">10:15 AM</td><td>CLOSURE of a Road</td><td>Klipstein Canyon Rd / Sr166</td><td>&nbsp;</td><td>Buttonwillow</td>\n",
        "            </tr><tr class=\"gvRow\" align=\"left\" style=\"white-space:nowrap;\">\n",
        "                <td class=\"gvSelectColumn\"><a href=\"javascript:__doPostBack('gvIncidents','Select$4')\">Details</a></td><td>00073</td><td style=\"white-space:nowrap;\">10:14 AM</td><td>CLOSURE of a Road</td><td>Mil Potrero Hwy / Cerro Noroeste Rd</td><td>&nbsp;</td><td>Fort Tejon</td>\n",
        "            </tr>\n",
        "        </tbody></table>\n",
        "    </div>\n",
        "\n",
        "\n",
        "</div>\n",
        "'''\n",
        "\n",
        "\n",
        "data = requests.get('https://www.chp.ca.gov/traffic').content\n",
        "#soup = BeautifulSoup(data, \"html.parser\")\n",
        "soup = BeautifulSoup(html, \"html.parser\")\n",
        "tables = soup.find('table')\n",
        "table_rows = tables.find_all('tr')\n",
        "\n",
        "res = []\n",
        "for tr in table_rows:\n",
        "    td = tr.find_all('td')\n",
        "    row = [tr.text.strip() for tr in td if tr.text.strip()]\n",
        "    if row:\n",
        "        res.append(row)"
      ],
      "execution_count": 0,
      "outputs": []
    },
    {
      "cell_type": "code",
      "metadata": {
        "id": "zxG6EDc2aSKk",
        "colab_type": "code",
        "colab": {
          "base_uri": "https://localhost:8080/",
          "height": 561
        },
        "outputId": "b8af601b-d80c-4cb9-cfdf-906212cf996a"
      },
      "source": [
        "res"
      ],
      "execution_count": 16,
      "outputs": [
        {
          "output_type": "execute_result",
          "data": {
            "text/plain": [
              "[['Details',\n",
              "  '00082',\n",
              "  '9:35 AM',\n",
              "  'Hit and Run w/Injuries',\n",
              "  'Nb Sr99 Jno Merle Haggard Dr',\n",
              "  'NB SR99 JNO Merle Haggard Dr',\n",
              "  'Bakersfield'],\n",
              " ['Details',\n",
              "  '00002',\n",
              "  '12:00 AM',\n",
              "  'Traffic Advisory',\n",
              "  'Bakersfield Traffic Advisories',\n",
              "  'Bakersfield Traffic Advisories',\n",
              "  'BF'],\n",
              " ['Details',\n",
              "  '00091',\n",
              "  '11:02 AM',\n",
              "  'CLOSURE of a Road',\n",
              "  'Cerro Noroeste Rd / Klipstein Canyon Rd',\n",
              "  'Fort Tejon'],\n",
              " ['Details',\n",
              "  '00074',\n",
              "  '10:15 AM',\n",
              "  'CLOSURE of a Road',\n",
              "  'Klipstein Canyon Rd / Sr166',\n",
              "  'Buttonwillow'],\n",
              " ['Details',\n",
              "  '00073',\n",
              "  '10:14 AM',\n",
              "  'CLOSURE of a Road',\n",
              "  'Mil Potrero Hwy / Cerro Noroeste Rd',\n",
              "  'Fort Tejon']]"
            ]
          },
          "metadata": {
            "tags": []
          },
          "execution_count": 16
        }
      ]
    }
  ]
}